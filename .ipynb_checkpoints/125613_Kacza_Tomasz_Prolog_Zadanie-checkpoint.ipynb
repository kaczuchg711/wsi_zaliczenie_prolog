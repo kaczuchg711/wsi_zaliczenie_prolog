{
 "cells": [
  {
   "cell_type": "markdown",
   "metadata": {
    "deletable": false,
    "editable": false,
    "nbgrader": {
     "checksum": "2878447ed9128508318a9c8416f4e7a3",
     "grade": false,
     "grade_id": "cell-982e98d0ad3ab544",
     "locked": true,
     "schema_version": 1,
     "solution": false
    }
   },
   "source": [
    "# Wstęp do Sztucznej Inteligencji - rok akademicki 2018/2019\n",
    "\n",
    "Przed rozpoczęciem pracy z notatnikiem zmień jego nazwę zgodnie z wzorem: `{NrAlbumu}_{Nazwisko}_{Imie}_{PoprzedniaNazwa}`.\n",
    "\n",
    "Przed wysłaniem notatnika upewnij się, że rozwiązałeś wszystkie zadania/ćwiczenia, w szczególności, że uzupełniłeś wszystkie pola `YOUR CODE HERE` oraz `YOUR ANSWER HERE`."
   ]
  },
  {
   "cell_type": "markdown",
   "metadata": {
    "deletable": false,
    "editable": false,
    "nbgrader": {
     "checksum": "2b506f35902c2ece2e41145ad707d88c",
     "grade": false,
     "grade_id": "cell-f460dfb3d59942f1",
     "locked": true,
     "schema_version": 1,
     "solution": false
    }
   },
   "source": [
    "## Zadanie 1  (obowiązkowe, 10pkt.)\n",
    "\n",
    "### Aby wygenerować treść zadania wprowadź swój nr albumu i wykonaj poniższe komórki (Shift + Enter) "
   ]
  },
  {
   "cell_type": "code",
   "execution_count": 1,
   "metadata": {},
   "outputs": [],
   "source": [
    "nr_albumu = '125613'"
   ]
  },
  {
   "cell_type": "code",
   "execution_count": 2,
   "metadata": {
    "deletable": false,
    "editable": false,
    "nbgrader": {
     "checksum": "4f9ab1dca83908e6898ab57e7df6a537",
     "grade": false,
     "grade_id": "cell-3702f381d78d74af",
     "locked": true,
     "schema_version": 1,
     "solution": false
    },
    "scrolled": true
   },
   "outputs": [
    {
     "data": {
      "text/html": [
       "<HTML><BODY><H3>Zadania dla numeru albumu: 125613.<br>Zadanie nr 45.</H3><br>\n",
       "Przyjaciele:<br>\n",
       "<b>Jarek, Franek, Stefan, Albert, Szymon, Robert, Marcin</b> <br> mieszkają w jednym budynku, każdy na innym piętrze (0, 1, 2, ...).\n",
       "<br><br>\n",
       "Każdy z nich ma inne zwierzę:<br>\n",
       "<b>psa, kota, rybkę, chomika, papugę, węża, kanarka.</b><br><br>\n",
       "Na którym piętrze mieszka każdy z nich i jakie ma zwierzę, jeśli następujące zdania są prawdą?<br>\n",
       "<b>1. Robert nie ma węża.<br>2. Właściciel węża mieszka na piętrze 6.<br>3. Franek mieszka niżej niż Stefan.<br>4. Właściciel psa mieszka na piętrze 0.<br>5. Franek mieszka niżej niż Robert.<br>6. Właściciel chomika mieszka na piętrze 5.<br>7. Szymon mieszka niżej niż Robert.<br>8. Właściciel rybki mieszka na piętrze 1.<br>9. Stefan mieszka wyżej niż Szymon.<br>10. Albert nie ma węża.<br>11. Stefan mieszka wyżej niż Marcin.<br>12. Właściciel kanarka mieszka na piętrze 2.<br>13. Robert nie ma rybki.<br>14. Jarek nie ma chomika.<br>15. Robert mieszka wyżej niż Albert.<br>16. Stefan nie ma kanarka.<br>17. Albert mieszka wyżej niż Jarek.<br>18. Właściciel papugi mieszka na piętrze 3.<br>19. Właściciel kota mieszka na piętrze 4.<br>20. Szymon nie ma kota.<br>21. Szymon mieszka wyżej niż Albert.<br>22. Marcin mieszka wyżej niż Robert.<br>23. Jarek nie ma rybki.<br>24. Albert nie ma kota.<br>25. Jarek mieszka niżej niż Stefan.<br>26. Albert nie ma chomika.<br>27. Marcin mieszka wyżej niż Franek.<br>28. Jarek mieszka niżej niż Franek.<br>29. Franek mieszka niżej niż Albert.<br>30. Szymon mieszka wyżej niż Franek.<br>31. Marcin mieszka wyżej niż Szymon.<br>32. Marcin mieszka wyżej niż Jarek.<br>33. Jarek nie ma papugi.<br>34. Robert mieszka niżej niż Stefan.<br>35. Szymon mieszka wyżej niż Jarek.<br>36. Marcin nie ma kanarka.<br>37. Jarek mieszka niżej niż Robert.<br>38. Albert mieszka niżej niż Stefan.<br>39. Albert mieszka niżej niż Marcin.<br>40. Marcin nie ma kota.<br>41. Franek nie ma papugi.<br>42. Albert nie ma rybki.<br>43. Franek nie ma węża.<br>44. Szymon nie ma kanarka.<br>45. Jarek nie ma kanarka.<br>46. Marcin nie ma węża.<br>47. Marcin nie ma papugi.<br>48. Robert nie ma papugi.<br>49. Albert nie ma psa.<br>50. Stefan nie ma chomika.<br>51. Robert nie ma chomika.<br>52. Albert nie ma papugi.<br>53. Franek nie ma chomika.<br>54. Stefan nie ma papugi.<br>55. Jarek nie ma kota.<br>56. Jarek nie ma węża.</b></BODY></HTML>"
      ],
      "text/plain": [
       "<IPython.core.display.HTML object>"
      ]
     },
     "execution_count": 2,
     "metadata": {},
     "output_type": "execute_result"
    }
   ],
   "source": [
    "import pickle\n",
    "from IPython.display import HTML\n",
    "\n",
    "zadania = pickle.load(open('zadania.pkl', 'rb'))\n",
    "nr = int(nr_albumu) % len(zadania)\n",
    "przyjaciele = zadania[nr]['przyjaciele']\n",
    "zwierzeta = zadania[nr]['zwierzeta']\n",
    "fakty = ['{}. {}'.format(i+1, s) for i,s in enumerate(zadania[nr]['fakty'])]\n",
    "\n",
    "tresc = \"\"\"<HTML><BODY><H3>Zadania dla numeru albumu: {}.<br>Zadanie nr {}.</H3><br>\n",
    "Przyjaciele:<br>\n",
    "<b>{}</b> <br> mieszkają w jednym budynku, każdy na innym piętrze (0, 1, 2, ...).\n",
    "<br><br>\n",
    "Każdy z nich ma inne zwierzę:<br>\n",
    "<b>{}</b><br><br>\n",
    "Na którym piętrze mieszka każdy z nich i jakie ma zwierzę, jeśli następujące zdania są prawdą?<br>\n",
    "<b>{}</b></BODY></HTML>\"\"\".format(nr_albumu, nr+1, ' '.join(przyjaciele),' '.join(zwierzeta),'<br>'.join(fakty))\n",
    "HTML(tresc)"
   ]
  },
  {
   "cell_type": "markdown",
   "metadata": {
    "deletable": false,
    "editable": false,
    "nbgrader": {
     "checksum": "7c9dfd25409d101f747d65cfbfa6f10d",
     "grade": false,
     "grade_id": "cell-6c8a3fb2ce3fcdb3",
     "locked": true,
     "schema_version": 1,
     "solution": false
    }
   },
   "source": [
    "### Instrukcje\n",
    "\n",
    "- Rozwiąż przydzielone sobie zadanie za pomocą odpowiedniego programu w Prologu.\n",
    "- W komórce TWÓJ PROGRAM przedstaw ten program.\n",
    "- W komórce ODPOWIEDŹ podaj rozwiązanie w postaci:\n",
    "```\n",
    "Jarek 0 kot\n",
    "Franek 3 chomik\n",
    "Stefan 1 rybka\n",
    "...\n",
    "```"
   ]
  },
  {
   "cell_type": "markdown",
   "metadata": {
    "deletable": false,
    "editable": false,
    "nbgrader": {
     "checksum": "f5a0640fe70bf88307984d683bab01cd",
     "grade": false,
     "grade_id": "cell-fe8d146854dd51b1",
     "locked": true,
     "schema_version": 1,
     "solution": false
    }
   },
   "source": [
    "#### TWÓJ PROGRAM:"
   ]
  },
  {
   "cell_type": "markdown",
   "metadata": {
    "deletable": false,
    "nbgrader": {
     "checksum": "67b57e47cbd6762f6b9b531b39c0033d",
     "grade": true,
     "grade_id": "cell-7952dd54d02bf86b",
     "locked": false,
     "points": 8,
     "schema_version": 1,
     "solution": true
    }
   },
   "source": [
    "dopasuj(0,[G|_],G) :- !.\n",
    "dopasuj(Q,[_|C],X) :- Q1 is Q - 1, dopasuj(Q1,C,X).   \n",
    "\n",
    "mysl(J,F,S,A,Sz,R,M) :-\n",
    "    \n",
    "    Pies=0,\n",
    "    Rybka=1,\n",
    "    Kanarek=2,\n",
    "    Papuga=3,\n",
    "    Kot=4,\n",
    "    Chomik=5,\n",
    "    Waz=6,\n",
    "\n",
    "    Z0 = [\"pies\",\"kot\",\"rybka\",\"chomik\",\"papuga\",\"waz\",\"kanarek\"],\n",
    "    P0 = [0,1,2,3,4,5,6],\n",
    "\n",
    "    J=[PJ,ZJ],\n",
    "    F=[PF,ZF],\n",
    "    S=[PS,ZS],\n",
    "    A=[PA,ZA],\n",
    "    Sz=[PSz,ZSz],\n",
    "    R=[PR,ZR],\n",
    "    M=[PM,ZM],\n",
    "    \n",
    "    select(PJ,P0,P1),   PJ\\=Chomik, PJ\\=Rybka,      PJ\\=Papuga, PJ\\=Kanarek,    PJ\\=Kot,    PJ\\=Waz,    \n",
    "    select(PF,P1,P2),   PF\\=Papuga, PF\\=Waz,        PF\\=Chomik,                 PJ<PF,\n",
    "    select(PS,P2,P3),   PS\\=Kanarek,PS\\=Chomik,     PS\\=Papuga,                 PJ<PS,      PF<PS,\n",
    "    select(PA,P3,P4),   PA\\=Waz,    PA\\=Kot,        PA\\=Chomik, PA\\=Rybka,      PA\\=Pies,   PA\\=Papuga, PF<PA,  PA>PJ,  PA<PS,\n",
    "    select(PSz,P4,P5),  PSz\\=Kot,   PSz\\=Kanarek,                               PSz>PA,     PSz>PF,     PS>PSz, PSz>PJ,\n",
    "    select(PR,P5,P6),   PR\\=Waz,    PR\\=Rybka,      PR\\=Papuga, PR\\=Chomik,     PJ<PR,      PF<PR,      PSz<PR, PR>PA,  PR<PS,\n",
    "    select(PM,P6,_),    PM\\=Kanarek,PM\\=Kot,        PM\\=Waz,    PM\\=Papuga,     PS>PM,      PA<PM,      PM>PR,  PM>PF,  PM>PJ,  PM>PSz,\n",
    "\n",
    "    dopasuj(PJ,Z0,ZJ),\n",
    "    dopasuj(PF,Z0,ZF),\n",
    "    dopasuj(PS,Z0,ZS),\n",
    "    dopasuj(PA,Z0,ZA),\n",
    "    dopasuj(PSz,Z0,ZSz),\n",
    "    dopasuj(PR,Z0,ZR),\n",
    "    dopasuj(PM,Z0,ZM).\n"
   ]
  },
  {
   "cell_type": "markdown",
   "metadata": {
    "deletable": false,
    "editable": false,
    "nbgrader": {
     "checksum": "e26e9d7241be949fa393912ab35bb50c",
     "grade": false,
     "grade_id": "cell-6a78113f0b1b8379",
     "locked": true,
     "schema_version": 1,
     "solution": false
    }
   },
   "source": [
    "#### ODPOWIEDŹ:"
   ]
  },
  {
   "cell_type": "markdown",
   "metadata": {
    "deletable": false,
    "nbgrader": {
     "checksum": "6be06967eeb1d16a241a350783ed268f",
     "grade": true,
     "grade_id": "cell-bdc401c2683f0de0",
     "locked": false,
     "points": 2,
     "schema_version": 1,
     "solution": true
    }
   },
   "source": [
    "mysl(Jarek,Franek,Sebastian,Albert,Szymon,Robert,Marcin).\n",
    "Jarek = [0, \"pies\"],\n",
    "Franek = [1, \"kot\"],\n",
    "Sebastian = [6, \"kanarek\"],\n",
    "Albert = [2, \"rybka\"],\n",
    "Szymon = [3, \"chomik\"],\n",
    "Robert = [4, \"papuga\"],\n",
    "Marcin = [5, \"waz\"] ;\n",
    "false.\n"
   ]
  },
  {
   "cell_type": "markdown",
   "metadata": {
    "deletable": false,
    "editable": false,
    "nbgrader": {
     "checksum": "22a892ad8206e6bb4fc40a8269fd2edc",
     "grade": false,
     "grade_id": "cell-299e037cb4bc73bb",
     "locked": true,
     "schema_version": 1,
     "solution": false
    }
   },
   "source": [
    "<div style=\"text-align: right\">&copy; Zakład Inteligencji Obliczeniowej, Instytut Informatyki, Politechnika Krakowska </div>"
   ]
  }
 ],
 "metadata": {
  "kernelspec": {
   "display_name": "Python 3",
   "language": "python",
   "name": "python3"
  },
  "language_info": {
   "codemirror_mode": {
    "name": "ipython",
    "version": 3
   },
   "file_extension": ".py",
   "mimetype": "text/x-python",
   "name": "python",
   "nbconvert_exporter": "python",
   "pygments_lexer": "ipython3",
   "version": "3.6.7"
  }
 },
 "nbformat": 4,
 "nbformat_minor": 2
}
